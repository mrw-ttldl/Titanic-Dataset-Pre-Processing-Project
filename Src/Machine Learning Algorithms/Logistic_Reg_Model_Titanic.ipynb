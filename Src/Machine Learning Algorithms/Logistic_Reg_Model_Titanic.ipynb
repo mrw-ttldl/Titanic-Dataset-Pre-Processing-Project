{
 "cells": [
  {
   "cell_type": "markdown",
   "metadata": {},
   "source": [
    "### Importing libraries"
   ]
  },
  {
   "cell_type": "code",
   "execution_count": 1,
   "metadata": {},
   "outputs": [],
   "source": [
    "import pandas as pd\n",
    "from sklearn.linear_model import LogisticRegression\n",
    "from sklearn.metrics import accuracy_score, precision_score, recall_score, f1_score, \\\n",
    "    roc_auc_score, confusion_matrix, classification_report, plot_roc_curve\n",
    "from sklearn.model_selection import train_test_split"
   ]
  },
  {
   "cell_type": "markdown",
   "metadata": {},
   "source": [
    "### Load Data Set"
   ]
  },
  {
   "cell_type": "code",
   "execution_count": 2,
   "metadata": {},
   "outputs": [],
   "source": [
    "df = pd.read_csv (\"prep_titanic.csv\")"
   ]
  },
  {
   "cell_type": "code",
   "execution_count": 3,
   "metadata": {},
   "outputs": [],
   "source": [
    "y = df[\"SURVIVED\"]\n",
    "X = df.drop([\"PASSENGERID\", \"SURVIVED\"], axis=1)\n",
    "X_train, X_test, y_train, y_test = train_test_split(X, y, test_size=0.20, random_state=17)"
   ]
  },
  {
   "cell_type": "code",
   "execution_count": 4,
   "metadata": {},
   "outputs": [
    {
     "data": {
      "text/html": [
       "<div>\n",
       "<style scoped>\n",
       "    .dataframe tbody tr th:only-of-type {\n",
       "        vertical-align: middle;\n",
       "    }\n",
       "\n",
       "    .dataframe tbody tr th {\n",
       "        vertical-align: top;\n",
       "    }\n",
       "\n",
       "    .dataframe thead th {\n",
       "        text-align: right;\n",
       "    }\n",
       "</style>\n",
       "<table border=\"1\" class=\"dataframe\">\n",
       "  <thead>\n",
       "    <tr style=\"text-align: right;\">\n",
       "      <th></th>\n",
       "      <th>Unnamed: 0</th>\n",
       "      <th>SEX</th>\n",
       "      <th>AGE</th>\n",
       "      <th>FARE</th>\n",
       "      <th>NEW_CABIN_BOOL</th>\n",
       "      <th>NEW_NAME_COUNT</th>\n",
       "      <th>NEW_NAME_DR</th>\n",
       "      <th>NEW_AGE_PCLASS</th>\n",
       "      <th>NEW_IS_ALONE</th>\n",
       "      <th>PCLASS_1</th>\n",
       "      <th>...</th>\n",
       "      <th>NEW_FAMILY_SIZE_7</th>\n",
       "      <th>NEW_FAMILY_SIZE_8</th>\n",
       "      <th>NEW_FAMILY_SIZE_11</th>\n",
       "      <th>NEW_AGE_CAT_mature</th>\n",
       "      <th>NEW_AGE_CAT_senior</th>\n",
       "      <th>NEW_AGE_CAT_young</th>\n",
       "      <th>NEW_SEX_CAT_maturefemale</th>\n",
       "      <th>NEW_SEX_CAT_maturemale</th>\n",
       "      <th>NEW_SEX_CAT_seniorfemale</th>\n",
       "      <th>NEW_SEX_CAT_seniormale</th>\n",
       "    </tr>\n",
       "  </thead>\n",
       "  <tbody>\n",
       "    <tr>\n",
       "      <th>873</th>\n",
       "      <td>873</td>\n",
       "      <td>1</td>\n",
       "      <td>1.351768</td>\n",
       "      <td>-0.735062</td>\n",
       "      <td>0</td>\n",
       "      <td>0.051502</td>\n",
       "      <td>0</td>\n",
       "      <td>2.361803</td>\n",
       "      <td>1</td>\n",
       "      <td>0</td>\n",
       "      <td>...</td>\n",
       "      <td>0</td>\n",
       "      <td>0</td>\n",
       "      <td>0</td>\n",
       "      <td>1</td>\n",
       "      <td>0</td>\n",
       "      <td>0</td>\n",
       "      <td>0</td>\n",
       "      <td>1</td>\n",
       "      <td>0</td>\n",
       "      <td>0</td>\n",
       "    </tr>\n",
       "    <tr>\n",
       "      <th>828</th>\n",
       "      <td>828</td>\n",
       "      <td>1</td>\n",
       "      <td>0.051332</td>\n",
       "      <td>-0.796127</td>\n",
       "      <td>0</td>\n",
       "      <td>0.173547</td>\n",
       "      <td>0</td>\n",
       "      <td>0.800989</td>\n",
       "      <td>1</td>\n",
       "      <td>0</td>\n",
       "      <td>...</td>\n",
       "      <td>0</td>\n",
       "      <td>0</td>\n",
       "      <td>0</td>\n",
       "      <td>1</td>\n",
       "      <td>0</td>\n",
       "      <td>0</td>\n",
       "      <td>0</td>\n",
       "      <td>1</td>\n",
       "      <td>0</td>\n",
       "      <td>0</td>\n",
       "    </tr>\n",
       "    <tr>\n",
       "      <th>99</th>\n",
       "      <td>99</td>\n",
       "      <td>1</td>\n",
       "      <td>0.357317</td>\n",
       "      <td>0.095416</td>\n",
       "      <td>0</td>\n",
       "      <td>-1.168942</td>\n",
       "      <td>0</td>\n",
       "      <td>0.127697</td>\n",
       "      <td>0</td>\n",
       "      <td>0</td>\n",
       "      <td>...</td>\n",
       "      <td>0</td>\n",
       "      <td>0</td>\n",
       "      <td>0</td>\n",
       "      <td>1</td>\n",
       "      <td>0</td>\n",
       "      <td>0</td>\n",
       "      <td>0</td>\n",
       "      <td>1</td>\n",
       "      <td>0</td>\n",
       "      <td>0</td>\n",
       "    </tr>\n",
       "    <tr>\n",
       "      <th>523</th>\n",
       "      <td>523</td>\n",
       "      <td>0</td>\n",
       "      <td>1.122279</td>\n",
       "      <td>1.657654</td>\n",
       "      <td>1</td>\n",
       "      <td>2.248303</td>\n",
       "      <td>0</td>\n",
       "      <td>-0.606804</td>\n",
       "      <td>0</td>\n",
       "      <td>1</td>\n",
       "      <td>...</td>\n",
       "      <td>0</td>\n",
       "      <td>0</td>\n",
       "      <td>0</td>\n",
       "      <td>1</td>\n",
       "      <td>0</td>\n",
       "      <td>0</td>\n",
       "      <td>1</td>\n",
       "      <td>0</td>\n",
       "      <td>0</td>\n",
       "      <td>0</td>\n",
       "    </tr>\n",
       "    <tr>\n",
       "      <th>132</th>\n",
       "      <td>132</td>\n",
       "      <td>0</td>\n",
       "      <td>1.351768</td>\n",
       "      <td>-0.466378</td>\n",
       "      <td>0</td>\n",
       "      <td>2.248303</td>\n",
       "      <td>0</td>\n",
       "      <td>2.361803</td>\n",
       "      <td>0</td>\n",
       "      <td>0</td>\n",
       "      <td>...</td>\n",
       "      <td>0</td>\n",
       "      <td>0</td>\n",
       "      <td>0</td>\n",
       "      <td>1</td>\n",
       "      <td>0</td>\n",
       "      <td>0</td>\n",
       "      <td>1</td>\n",
       "      <td>0</td>\n",
       "      <td>0</td>\n",
       "      <td>0</td>\n",
       "    </tr>\n",
       "    <tr>\n",
       "      <th>...</th>\n",
       "      <td>...</td>\n",
       "      <td>...</td>\n",
       "      <td>...</td>\n",
       "      <td>...</td>\n",
       "      <td>...</td>\n",
       "      <td>...</td>\n",
       "      <td>...</td>\n",
       "      <td>...</td>\n",
       "      <td>...</td>\n",
       "      <td>...</td>\n",
       "      <td>...</td>\n",
       "      <td>...</td>\n",
       "      <td>...</td>\n",
       "      <td>...</td>\n",
       "      <td>...</td>\n",
       "      <td>...</td>\n",
       "      <td>...</td>\n",
       "      <td>...</td>\n",
       "      <td>...</td>\n",
       "      <td>...</td>\n",
       "      <td>...</td>\n",
       "    </tr>\n",
       "    <tr>\n",
       "      <th>406</th>\n",
       "      <td>406</td>\n",
       "      <td>1</td>\n",
       "      <td>1.657753</td>\n",
       "      <td>-0.796127</td>\n",
       "      <td>0</td>\n",
       "      <td>0.661725</td>\n",
       "      <td>0</td>\n",
       "      <td>2.729053</td>\n",
       "      <td>1</td>\n",
       "      <td>0</td>\n",
       "      <td>...</td>\n",
       "      <td>0</td>\n",
       "      <td>0</td>\n",
       "      <td>0</td>\n",
       "      <td>1</td>\n",
       "      <td>0</td>\n",
       "      <td>0</td>\n",
       "      <td>0</td>\n",
       "      <td>0</td>\n",
       "      <td>0</td>\n",
       "      <td>1</td>\n",
       "    </tr>\n",
       "    <tr>\n",
       "      <th>390</th>\n",
       "      <td>390</td>\n",
       "      <td>1</td>\n",
       "      <td>0.510309</td>\n",
       "      <td>2.031623</td>\n",
       "      <td>1</td>\n",
       "      <td>-0.070542</td>\n",
       "      <td>0</td>\n",
       "      <td>-0.851637</td>\n",
       "      <td>0</td>\n",
       "      <td>1</td>\n",
       "      <td>...</td>\n",
       "      <td>0</td>\n",
       "      <td>0</td>\n",
       "      <td>0</td>\n",
       "      <td>1</td>\n",
       "      <td>0</td>\n",
       "      <td>0</td>\n",
       "      <td>0</td>\n",
       "      <td>1</td>\n",
       "      <td>0</td>\n",
       "      <td>0</td>\n",
       "    </tr>\n",
       "    <tr>\n",
       "      <th>143</th>\n",
       "      <td>143</td>\n",
       "      <td>1</td>\n",
       "      <td>-0.790127</td>\n",
       "      <td>-0.844978</td>\n",
       "      <td>0</td>\n",
       "      <td>-0.924853</td>\n",
       "      <td>0</td>\n",
       "      <td>-0.208949</td>\n",
       "      <td>1</td>\n",
       "      <td>0</td>\n",
       "      <td>...</td>\n",
       "      <td>0</td>\n",
       "      <td>0</td>\n",
       "      <td>0</td>\n",
       "      <td>1</td>\n",
       "      <td>0</td>\n",
       "      <td>0</td>\n",
       "      <td>0</td>\n",
       "      <td>1</td>\n",
       "      <td>0</td>\n",
       "      <td>0</td>\n",
       "    </tr>\n",
       "    <tr>\n",
       "      <th>241</th>\n",
       "      <td>241</td>\n",
       "      <td>0</td>\n",
       "      <td>-0.637135</td>\n",
       "      <td>-0.417526</td>\n",
       "      <td>0</td>\n",
       "      <td>0.417636</td>\n",
       "      <td>0</td>\n",
       "      <td>-0.025324</td>\n",
       "      <td>0</td>\n",
       "      <td>0</td>\n",
       "      <td>...</td>\n",
       "      <td>0</td>\n",
       "      <td>0</td>\n",
       "      <td>0</td>\n",
       "      <td>1</td>\n",
       "      <td>0</td>\n",
       "      <td>0</td>\n",
       "      <td>1</td>\n",
       "      <td>0</td>\n",
       "      <td>0</td>\n",
       "      <td>0</td>\n",
       "    </tr>\n",
       "    <tr>\n",
       "      <th>623</th>\n",
       "      <td>623</td>\n",
       "      <td>1</td>\n",
       "      <td>-0.637135</td>\n",
       "      <td>-0.791036</td>\n",
       "      <td>0</td>\n",
       "      <td>0.051502</td>\n",
       "      <td>0</td>\n",
       "      <td>-0.025324</td>\n",
       "      <td>1</td>\n",
       "      <td>0</td>\n",
       "      <td>...</td>\n",
       "      <td>0</td>\n",
       "      <td>0</td>\n",
       "      <td>0</td>\n",
       "      <td>1</td>\n",
       "      <td>0</td>\n",
       "      <td>0</td>\n",
       "      <td>0</td>\n",
       "      <td>1</td>\n",
       "      <td>0</td>\n",
       "      <td>0</td>\n",
       "    </tr>\n",
       "  </tbody>\n",
       "</table>\n",
       "<p>712 rows × 58 columns</p>\n",
       "</div>"
      ],
      "text/plain": [
       "     Unnamed: 0  SEX       AGE      FARE  NEW_CABIN_BOOL  NEW_NAME_COUNT  \\\n",
       "873         873    1  1.351768 -0.735062               0        0.051502   \n",
       "828         828    1  0.051332 -0.796127               0        0.173547   \n",
       "99           99    1  0.357317  0.095416               0       -1.168942   \n",
       "523         523    0  1.122279  1.657654               1        2.248303   \n",
       "132         132    0  1.351768 -0.466378               0        2.248303   \n",
       "..          ...  ...       ...       ...             ...             ...   \n",
       "406         406    1  1.657753 -0.796127               0        0.661725   \n",
       "390         390    1  0.510309  2.031623               1       -0.070542   \n",
       "143         143    1 -0.790127 -0.844978               0       -0.924853   \n",
       "241         241    0 -0.637135 -0.417526               0        0.417636   \n",
       "623         623    1 -0.637135 -0.791036               0        0.051502   \n",
       "\n",
       "     NEW_NAME_DR  NEW_AGE_PCLASS  NEW_IS_ALONE  PCLASS_1  ...  \\\n",
       "873            0        2.361803             1         0  ...   \n",
       "828            0        0.800989             1         0  ...   \n",
       "99             0        0.127697             0         0  ...   \n",
       "523            0       -0.606804             0         1  ...   \n",
       "132            0        2.361803             0         0  ...   \n",
       "..           ...             ...           ...       ...  ...   \n",
       "406            0        2.729053             1         0  ...   \n",
       "390            0       -0.851637             0         1  ...   \n",
       "143            0       -0.208949             1         0  ...   \n",
       "241            0       -0.025324             0         0  ...   \n",
       "623            0       -0.025324             1         0  ...   \n",
       "\n",
       "     NEW_FAMILY_SIZE_7  NEW_FAMILY_SIZE_8  NEW_FAMILY_SIZE_11  \\\n",
       "873                  0                  0                   0   \n",
       "828                  0                  0                   0   \n",
       "99                   0                  0                   0   \n",
       "523                  0                  0                   0   \n",
       "132                  0                  0                   0   \n",
       "..                 ...                ...                 ...   \n",
       "406                  0                  0                   0   \n",
       "390                  0                  0                   0   \n",
       "143                  0                  0                   0   \n",
       "241                  0                  0                   0   \n",
       "623                  0                  0                   0   \n",
       "\n",
       "     NEW_AGE_CAT_mature  NEW_AGE_CAT_senior  NEW_AGE_CAT_young  \\\n",
       "873                   1                   0                  0   \n",
       "828                   1                   0                  0   \n",
       "99                    1                   0                  0   \n",
       "523                   1                   0                  0   \n",
       "132                   1                   0                  0   \n",
       "..                  ...                 ...                ...   \n",
       "406                   1                   0                  0   \n",
       "390                   1                   0                  0   \n",
       "143                   1                   0                  0   \n",
       "241                   1                   0                  0   \n",
       "623                   1                   0                  0   \n",
       "\n",
       "     NEW_SEX_CAT_maturefemale  NEW_SEX_CAT_maturemale  \\\n",
       "873                         0                       1   \n",
       "828                         0                       1   \n",
       "99                          0                       1   \n",
       "523                         1                       0   \n",
       "132                         1                       0   \n",
       "..                        ...                     ...   \n",
       "406                         0                       0   \n",
       "390                         0                       1   \n",
       "143                         0                       1   \n",
       "241                         1                       0   \n",
       "623                         0                       1   \n",
       "\n",
       "     NEW_SEX_CAT_seniorfemale  NEW_SEX_CAT_seniormale  \n",
       "873                         0                       0  \n",
       "828                         0                       0  \n",
       "99                          0                       0  \n",
       "523                         0                       0  \n",
       "132                         0                       0  \n",
       "..                        ...                     ...  \n",
       "406                         0                       1  \n",
       "390                         0                       0  \n",
       "143                         0                       0  \n",
       "241                         0                       0  \n",
       "623                         0                       0  \n",
       "\n",
       "[712 rows x 58 columns]"
      ]
     },
     "execution_count": 4,
     "metadata": {},
     "output_type": "execute_result"
    }
   ],
   "source": [
    "X_train"
   ]
  },
  {
   "cell_type": "code",
   "execution_count": 5,
   "metadata": {},
   "outputs": [
    {
     "data": {
      "text/plain": [
       "873    0\n",
       "828    1\n",
       "99     0\n",
       "523    1\n",
       "132    0\n",
       "      ..\n",
       "406    0\n",
       "390    1\n",
       "143    0\n",
       "241    1\n",
       "623    0\n",
       "Name: SURVIVED, Length: 712, dtype: int64"
      ]
     },
     "execution_count": 5,
     "metadata": {},
     "output_type": "execute_result"
    }
   ],
   "source": [
    "y_train"
   ]
  },
  {
   "cell_type": "code",
   "execution_count": 6,
   "metadata": {},
   "outputs": [
    {
     "data": {
      "text/html": [
       "<div>\n",
       "<style scoped>\n",
       "    .dataframe tbody tr th:only-of-type {\n",
       "        vertical-align: middle;\n",
       "    }\n",
       "\n",
       "    .dataframe tbody tr th {\n",
       "        vertical-align: top;\n",
       "    }\n",
       "\n",
       "    .dataframe thead th {\n",
       "        text-align: right;\n",
       "    }\n",
       "</style>\n",
       "<table border=\"1\" class=\"dataframe\">\n",
       "  <thead>\n",
       "    <tr style=\"text-align: right;\">\n",
       "      <th></th>\n",
       "      <th>Unnamed: 0</th>\n",
       "      <th>SEX</th>\n",
       "      <th>AGE</th>\n",
       "      <th>FARE</th>\n",
       "      <th>NEW_CABIN_BOOL</th>\n",
       "      <th>NEW_NAME_COUNT</th>\n",
       "      <th>NEW_NAME_DR</th>\n",
       "      <th>NEW_AGE_PCLASS</th>\n",
       "      <th>NEW_IS_ALONE</th>\n",
       "      <th>PCLASS_1</th>\n",
       "      <th>...</th>\n",
       "      <th>NEW_FAMILY_SIZE_7</th>\n",
       "      <th>NEW_FAMILY_SIZE_8</th>\n",
       "      <th>NEW_FAMILY_SIZE_11</th>\n",
       "      <th>NEW_AGE_CAT_mature</th>\n",
       "      <th>NEW_AGE_CAT_senior</th>\n",
       "      <th>NEW_AGE_CAT_young</th>\n",
       "      <th>NEW_SEX_CAT_maturefemale</th>\n",
       "      <th>NEW_SEX_CAT_maturemale</th>\n",
       "      <th>NEW_SEX_CAT_seniorfemale</th>\n",
       "      <th>NEW_SEX_CAT_seniormale</th>\n",
       "    </tr>\n",
       "  </thead>\n",
       "  <tbody>\n",
       "    <tr>\n",
       "      <th>890</th>\n",
       "      <td>890</td>\n",
       "      <td>1</td>\n",
       "      <td>0.204324</td>\n",
       "      <td>-0.796127</td>\n",
       "      <td>0</td>\n",
       "      <td>-0.924853</td>\n",
       "      <td>0</td>\n",
       "      <td>0.984614</td>\n",
       "      <td>1</td>\n",
       "      <td>0</td>\n",
       "      <td>...</td>\n",
       "      <td>0</td>\n",
       "      <td>0</td>\n",
       "      <td>0</td>\n",
       "      <td>1</td>\n",
       "      <td>0</td>\n",
       "      <td>0</td>\n",
       "      <td>0</td>\n",
       "      <td>1</td>\n",
       "      <td>0</td>\n",
       "      <td>0</td>\n",
       "    </tr>\n",
       "    <tr>\n",
       "      <th>498</th>\n",
       "      <td>498</td>\n",
       "      <td>0</td>\n",
       "      <td>-0.331150</td>\n",
       "      <td>2.031623</td>\n",
       "      <td>1</td>\n",
       "      <td>2.248303</td>\n",
       "      <td>0</td>\n",
       "      <td>-1.188283</td>\n",
       "      <td>0</td>\n",
       "      <td>1</td>\n",
       "      <td>...</td>\n",
       "      <td>0</td>\n",
       "      <td>0</td>\n",
       "      <td>0</td>\n",
       "      <td>1</td>\n",
       "      <td>0</td>\n",
       "      <td>0</td>\n",
       "      <td>1</td>\n",
       "      <td>0</td>\n",
       "      <td>0</td>\n",
       "      <td>0</td>\n",
       "    </tr>\n",
       "    <tr>\n",
       "      <th>664</th>\n",
       "      <td>664</td>\n",
       "      <td>1</td>\n",
       "      <td>-0.713631</td>\n",
       "      <td>-0.787578</td>\n",
       "      <td>0</td>\n",
       "      <td>0.051502</td>\n",
       "      <td>0</td>\n",
       "      <td>-0.117137</td>\n",
       "      <td>0</td>\n",
       "      <td>0</td>\n",
       "      <td>...</td>\n",
       "      <td>0</td>\n",
       "      <td>0</td>\n",
       "      <td>0</td>\n",
       "      <td>1</td>\n",
       "      <td>0</td>\n",
       "      <td>0</td>\n",
       "      <td>0</td>\n",
       "      <td>1</td>\n",
       "      <td>0</td>\n",
       "      <td>0</td>\n",
       "    </tr>\n",
       "    <tr>\n",
       "      <th>261</th>\n",
       "      <td>261</td>\n",
       "      <td>1</td>\n",
       "      <td>-2.014067</td>\n",
       "      <td>0.358605</td>\n",
       "      <td>0</td>\n",
       "      <td>0.783769</td>\n",
       "      <td>0</td>\n",
       "      <td>-1.677950</td>\n",
       "      <td>0</td>\n",
       "      <td>0</td>\n",
       "      <td>...</td>\n",
       "      <td>1</td>\n",
       "      <td>0</td>\n",
       "      <td>0</td>\n",
       "      <td>0</td>\n",
       "      <td>0</td>\n",
       "      <td>1</td>\n",
       "      <td>0</td>\n",
       "      <td>1</td>\n",
       "      <td>0</td>\n",
       "      <td>0</td>\n",
       "    </tr>\n",
       "    <tr>\n",
       "      <th>716</th>\n",
       "      <td>716</td>\n",
       "      <td>0</td>\n",
       "      <td>0.663302</td>\n",
       "      <td>2.031623</td>\n",
       "      <td>1</td>\n",
       "      <td>0.295591</td>\n",
       "      <td>0</td>\n",
       "      <td>-0.790429</td>\n",
       "      <td>1</td>\n",
       "      <td>1</td>\n",
       "      <td>...</td>\n",
       "      <td>0</td>\n",
       "      <td>0</td>\n",
       "      <td>0</td>\n",
       "      <td>1</td>\n",
       "      <td>0</td>\n",
       "      <td>0</td>\n",
       "      <td>1</td>\n",
       "      <td>0</td>\n",
       "      <td>0</td>\n",
       "      <td>0</td>\n",
       "    </tr>\n",
       "    <tr>\n",
       "      <th>...</th>\n",
       "      <td>...</td>\n",
       "      <td>...</td>\n",
       "      <td>...</td>\n",
       "      <td>...</td>\n",
       "      <td>...</td>\n",
       "      <td>...</td>\n",
       "      <td>...</td>\n",
       "      <td>...</td>\n",
       "      <td>...</td>\n",
       "      <td>...</td>\n",
       "      <td>...</td>\n",
       "      <td>...</td>\n",
       "      <td>...</td>\n",
       "      <td>...</td>\n",
       "      <td>...</td>\n",
       "      <td>...</td>\n",
       "      <td>...</td>\n",
       "      <td>...</td>\n",
       "      <td>...</td>\n",
       "      <td>...</td>\n",
       "      <td>...</td>\n",
       "    </tr>\n",
       "    <tr>\n",
       "      <th>690</th>\n",
       "      <td>690</td>\n",
       "      <td>1</td>\n",
       "      <td>0.127828</td>\n",
       "      <td>1.609818</td>\n",
       "      <td>1</td>\n",
       "      <td>-0.436675</td>\n",
       "      <td>0</td>\n",
       "      <td>-1.004658</td>\n",
       "      <td>0</td>\n",
       "      <td>1</td>\n",
       "      <td>...</td>\n",
       "      <td>0</td>\n",
       "      <td>0</td>\n",
       "      <td>0</td>\n",
       "      <td>1</td>\n",
       "      <td>0</td>\n",
       "      <td>0</td>\n",
       "      <td>0</td>\n",
       "      <td>1</td>\n",
       "      <td>0</td>\n",
       "      <td>0</td>\n",
       "    </tr>\n",
       "    <tr>\n",
       "      <th>648</th>\n",
       "      <td>648</td>\n",
       "      <td>1</td>\n",
       "      <td>0.051332</td>\n",
       "      <td>-0.805897</td>\n",
       "      <td>0</td>\n",
       "      <td>-1.046898</td>\n",
       "      <td>0</td>\n",
       "      <td>0.800989</td>\n",
       "      <td>1</td>\n",
       "      <td>0</td>\n",
       "      <td>...</td>\n",
       "      <td>0</td>\n",
       "      <td>0</td>\n",
       "      <td>0</td>\n",
       "      <td>1</td>\n",
       "      <td>0</td>\n",
       "      <td>0</td>\n",
       "      <td>0</td>\n",
       "      <td>1</td>\n",
       "      <td>0</td>\n",
       "      <td>0</td>\n",
       "    </tr>\n",
       "    <tr>\n",
       "      <th>823</th>\n",
       "      <td>823</td>\n",
       "      <td>0</td>\n",
       "      <td>-0.178157</td>\n",
       "      <td>-0.565302</td>\n",
       "      <td>1</td>\n",
       "      <td>-1.046898</td>\n",
       "      <td>0</td>\n",
       "      <td>0.525551</td>\n",
       "      <td>0</td>\n",
       "      <td>0</td>\n",
       "      <td>...</td>\n",
       "      <td>0</td>\n",
       "      <td>0</td>\n",
       "      <td>0</td>\n",
       "      <td>1</td>\n",
       "      <td>0</td>\n",
       "      <td>0</td>\n",
       "      <td>1</td>\n",
       "      <td>0</td>\n",
       "      <td>0</td>\n",
       "      <td>0</td>\n",
       "    </tr>\n",
       "    <tr>\n",
       "      <th>78</th>\n",
       "      <td>78</td>\n",
       "      <td>1</td>\n",
       "      <td>-2.180064</td>\n",
       "      <td>0.241971</td>\n",
       "      <td>0</td>\n",
       "      <td>0.295591</td>\n",
       "      <td>0</td>\n",
       "      <td>-1.902585</td>\n",
       "      <td>0</td>\n",
       "      <td>0</td>\n",
       "      <td>...</td>\n",
       "      <td>0</td>\n",
       "      <td>0</td>\n",
       "      <td>0</td>\n",
       "      <td>0</td>\n",
       "      <td>0</td>\n",
       "      <td>1</td>\n",
       "      <td>0</td>\n",
       "      <td>1</td>\n",
       "      <td>0</td>\n",
       "      <td>0</td>\n",
       "    </tr>\n",
       "    <tr>\n",
       "      <th>604</th>\n",
       "      <td>604</td>\n",
       "      <td>1</td>\n",
       "      <td>0.433813</td>\n",
       "      <td>0.122285</td>\n",
       "      <td>0</td>\n",
       "      <td>0.539680</td>\n",
       "      <td>0</td>\n",
       "      <td>-0.882241</td>\n",
       "      <td>1</td>\n",
       "      <td>1</td>\n",
       "      <td>...</td>\n",
       "      <td>0</td>\n",
       "      <td>0</td>\n",
       "      <td>0</td>\n",
       "      <td>1</td>\n",
       "      <td>0</td>\n",
       "      <td>0</td>\n",
       "      <td>0</td>\n",
       "      <td>1</td>\n",
       "      <td>0</td>\n",
       "      <td>0</td>\n",
       "    </tr>\n",
       "  </tbody>\n",
       "</table>\n",
       "<p>179 rows × 58 columns</p>\n",
       "</div>"
      ],
      "text/plain": [
       "     Unnamed: 0  SEX       AGE      FARE  NEW_CABIN_BOOL  NEW_NAME_COUNT  \\\n",
       "890         890    1  0.204324 -0.796127               0       -0.924853   \n",
       "498         498    0 -0.331150  2.031623               1        2.248303   \n",
       "664         664    1 -0.713631 -0.787578               0        0.051502   \n",
       "261         261    1 -2.014067  0.358605               0        0.783769   \n",
       "716         716    0  0.663302  2.031623               1        0.295591   \n",
       "..          ...  ...       ...       ...             ...             ...   \n",
       "690         690    1  0.127828  1.609818               1       -0.436675   \n",
       "648         648    1  0.051332 -0.805897               0       -1.046898   \n",
       "823         823    0 -0.178157 -0.565302               1       -1.046898   \n",
       "78           78    1 -2.180064  0.241971               0        0.295591   \n",
       "604         604    1  0.433813  0.122285               0        0.539680   \n",
       "\n",
       "     NEW_NAME_DR  NEW_AGE_PCLASS  NEW_IS_ALONE  PCLASS_1  ...  \\\n",
       "890            0        0.984614             1         0  ...   \n",
       "498            0       -1.188283             0         1  ...   \n",
       "664            0       -0.117137             0         0  ...   \n",
       "261            0       -1.677950             0         0  ...   \n",
       "716            0       -0.790429             1         1  ...   \n",
       "..           ...             ...           ...       ...  ...   \n",
       "690            0       -1.004658             0         1  ...   \n",
       "648            0        0.800989             1         0  ...   \n",
       "823            0        0.525551             0         0  ...   \n",
       "78             0       -1.902585             0         0  ...   \n",
       "604            0       -0.882241             1         1  ...   \n",
       "\n",
       "     NEW_FAMILY_SIZE_7  NEW_FAMILY_SIZE_8  NEW_FAMILY_SIZE_11  \\\n",
       "890                  0                  0                   0   \n",
       "498                  0                  0                   0   \n",
       "664                  0                  0                   0   \n",
       "261                  1                  0                   0   \n",
       "716                  0                  0                   0   \n",
       "..                 ...                ...                 ...   \n",
       "690                  0                  0                   0   \n",
       "648                  0                  0                   0   \n",
       "823                  0                  0                   0   \n",
       "78                   0                  0                   0   \n",
       "604                  0                  0                   0   \n",
       "\n",
       "     NEW_AGE_CAT_mature  NEW_AGE_CAT_senior  NEW_AGE_CAT_young  \\\n",
       "890                   1                   0                  0   \n",
       "498                   1                   0                  0   \n",
       "664                   1                   0                  0   \n",
       "261                   0                   0                  1   \n",
       "716                   1                   0                  0   \n",
       "..                  ...                 ...                ...   \n",
       "690                   1                   0                  0   \n",
       "648                   1                   0                  0   \n",
       "823                   1                   0                  0   \n",
       "78                    0                   0                  1   \n",
       "604                   1                   0                  0   \n",
       "\n",
       "     NEW_SEX_CAT_maturefemale  NEW_SEX_CAT_maturemale  \\\n",
       "890                         0                       1   \n",
       "498                         1                       0   \n",
       "664                         0                       1   \n",
       "261                         0                       1   \n",
       "716                         1                       0   \n",
       "..                        ...                     ...   \n",
       "690                         0                       1   \n",
       "648                         0                       1   \n",
       "823                         1                       0   \n",
       "78                          0                       1   \n",
       "604                         0                       1   \n",
       "\n",
       "     NEW_SEX_CAT_seniorfemale  NEW_SEX_CAT_seniormale  \n",
       "890                         0                       0  \n",
       "498                         0                       0  \n",
       "664                         0                       0  \n",
       "261                         0                       0  \n",
       "716                         0                       0  \n",
       "..                        ...                     ...  \n",
       "690                         0                       0  \n",
       "648                         0                       0  \n",
       "823                         0                       0  \n",
       "78                          0                       0  \n",
       "604                         0                       0  \n",
       "\n",
       "[179 rows x 58 columns]"
      ]
     },
     "execution_count": 6,
     "metadata": {},
     "output_type": "execute_result"
    }
   ],
   "source": [
    "X_test"
   ]
  },
  {
   "cell_type": "code",
   "execution_count": 7,
   "metadata": {},
   "outputs": [
    {
     "data": {
      "text/plain": [
       "890    0\n",
       "498    0\n",
       "664    1\n",
       "261    1\n",
       "716    1\n",
       "      ..\n",
       "690    1\n",
       "648    0\n",
       "823    1\n",
       "78     1\n",
       "604    1\n",
       "Name: SURVIVED, Length: 179, dtype: int64"
      ]
     },
     "execution_count": 7,
     "metadata": {},
     "output_type": "execute_result"
    }
   ],
   "source": [
    "y_test"
   ]
  },
  {
   "cell_type": "markdown",
   "metadata": {},
   "source": [
    "### Model"
   ]
  },
  {
   "cell_type": "code",
   "execution_count": 8,
   "metadata": {},
   "outputs": [
    {
     "name": "stderr",
     "output_type": "stream",
     "text": [
      "/Applications/anaconda3/lib/python3.8/site-packages/sklearn/linear_model/_logistic.py:762: ConvergenceWarning: lbfgs failed to converge (status=1):\n",
      "STOP: TOTAL NO. of ITERATIONS REACHED LIMIT.\n",
      "\n",
      "Increase the number of iterations (max_iter) or scale the data as shown in:\n",
      "    https://scikit-learn.org/stable/modules/preprocessing.html\n",
      "Please also refer to the documentation for alternative solver options:\n",
      "    https://scikit-learn.org/stable/modules/linear_model.html#logistic-regression\n",
      "  n_iter_i = _check_optimize_result(\n"
     ]
    }
   ],
   "source": [
    "log_model = LogisticRegression().fit(X_train, y_train)"
   ]
  },
  {
   "cell_type": "code",
   "execution_count": 9,
   "metadata": {},
   "outputs": [
    {
     "data": {
      "text/plain": [
       "array([-0.12852019])"
      ]
     },
     "execution_count": 9,
     "metadata": {},
     "output_type": "execute_result"
    }
   ],
   "source": [
    "log_model.intercept_"
   ]
  },
  {
   "cell_type": "code",
   "execution_count": 10,
   "metadata": {},
   "outputs": [
    {
     "data": {
      "text/plain": [
       "array([[-3.58358946e-04, -8.00626182e-01, -2.36883611e-01,\n",
       "        -9.20643890e-02,  8.50969186e-01,  2.35658948e-01,\n",
       "         2.46812546e-02, -4.79332074e-01,  2.56084564e-01,\n",
       "         3.32047990e-01,  2.34080851e-01, -6.88983504e-01,\n",
       "         3.68986472e-01,  4.50753211e-01,  7.13634284e-02,\n",
       "        -4.31790910e-01, -3.17036015e-01, -1.03923379e-01,\n",
       "        -1.61207471e-01,  4.21490234e-01,  6.81461133e-02,\n",
       "        -3.90581718e-01,  9.62427573e-02, -1.30875842e-01,\n",
       "        -1.47638803e-01, -3.96374040e-02,  2.06220062e-01,\n",
       "         1.06067292e-01, -4.35142017e-01,  2.34503616e-01,\n",
       "        -3.14888216e-01, -2.69545249e-01,  1.39908516e-01,\n",
       "         2.94562714e-01, -2.26891792e-01,  1.39023853e-02,\n",
       "         5.59336193e-03,  5.24239466e-01,  7.85155301e-02,\n",
       "        -9.46504013e-01,  5.31305813e-01, -3.10411459e-01,\n",
       "         2.56084564e-01,  1.34716607e-01,  6.02012616e-01,\n",
       "         3.44114042e-01, -4.80620279e-01, -5.11636853e-01,\n",
       "        -1.62757106e-01, -1.43560783e-01, -1.61207471e-01,\n",
       "        -1.03116705e-01, -2.62619566e-01,  2.42881608e-01,\n",
       "         4.49464529e-01, -2.38557103e-01,  2.28306990e-01,\n",
       "        -5.62069079e-01]])"
      ]
     },
     "execution_count": 10,
     "metadata": {},
     "output_type": "execute_result"
    }
   ],
   "source": [
    "log_model.coef_"
   ]
  },
  {
   "cell_type": "markdown",
   "metadata": {},
   "source": [
    "### Prediction"
   ]
  },
  {
   "cell_type": "code",
   "execution_count": 11,
   "metadata": {},
   "outputs": [
    {
     "data": {
      "text/plain": [
       "873    0\n",
       "828    1\n",
       "99     0\n",
       "523    1\n",
       "132    0\n",
       "611    0\n",
       "427    1\n",
       "53     1\n",
       "204    1\n",
       "203    0\n",
       "Name: SURVIVED, dtype: int64"
      ]
     },
     "execution_count": 11,
     "metadata": {},
     "output_type": "execute_result"
    }
   ],
   "source": [
    "y_pred = log_model.predict(X_train)\n",
    "y_pred[0:10]\n",
    "y_train[0:10]"
   ]
  },
  {
   "cell_type": "code",
   "execution_count": 12,
   "metadata": {},
   "outputs": [
    {
     "data": {
      "text/plain": [
       "array([[0.98269033, 0.01730967],\n",
       "       [0.91614692, 0.08385308],\n",
       "       [0.83787578, 0.16212422],\n",
       "       [0.038435  , 0.961565  ],\n",
       "       [0.50007565, 0.49992435],\n",
       "       [0.95490041, 0.04509959],\n",
       "       [0.0873918 , 0.9126082 ],\n",
       "       [0.09208459, 0.90791541],\n",
       "       [0.88889897, 0.11110103],\n",
       "       [0.937516  , 0.062484  ]])"
      ]
     },
     "execution_count": 12,
     "metadata": {},
     "output_type": "execute_result"
    }
   ],
   "source": [
    "log_model.predict_proba(X_train)[0:10]"
   ]
  },
  {
   "cell_type": "code",
   "execution_count": 13,
   "metadata": {},
   "outputs": [],
   "source": [
    "y_prob = log_model.predict_proba(X_train)[:, 1]"
   ]
  },
  {
   "cell_type": "markdown",
   "metadata": {},
   "source": [
    "### Success Evaluation"
   ]
  },
  {
   "cell_type": "code",
   "execution_count": 14,
   "metadata": {},
   "outputs": [
    {
     "data": {
      "text/plain": [
       "0.8539325842696629"
      ]
     },
     "execution_count": 14,
     "metadata": {},
     "output_type": "execute_result"
    }
   ],
   "source": [
    "# Train Accuracy\n",
    "y_pred = log_model.predict(X_train)\n",
    "accuracy_score(y_train, y_pred)"
   ]
  },
  {
   "cell_type": "code",
   "execution_count": 15,
   "metadata": {},
   "outputs": [],
   "source": [
    "# Test\n",
    "# y_prob for AUC Score\n",
    "y_prob = log_model.predict_proba(X_test)[:, 1]"
   ]
  },
  {
   "cell_type": "code",
   "execution_count": 16,
   "metadata": {},
   "outputs": [],
   "source": [
    "# y_pred for other metrics\n",
    "y_pred = log_model.predict(X_test)"
   ]
  },
  {
   "cell_type": "code",
   "execution_count": 20,
   "metadata": {},
   "outputs": [
    {
     "data": {
      "image/png": "[encoded data removed]",
      "text/plain": [
       "<Figure size 432x288 with 2 Axes>"
      ]
     },
     "metadata": {
      "needs_background": "light"
     },
     "output_type": "display_data"
    }
   ],
   "source": [
    "import seaborn as sns \n",
    "import matplotlib.pyplot as plt\n",
    "def plot_confusion_matrix(y, y_pred):\n",
    "    acc = round(accuracy_score(y, y_pred), 2)\n",
    "    cm = confusion_matrix(y, y_pred)\n",
    "    sns.heatmap(cm, annot=True, fmt=\".0f\")\n",
    "    plt.xlabel('y_pred')\n",
    "    plt.ylabel('y')\n",
    "    plt.title('Accuracy Score: {0}'.format(acc), size=10)\n",
    "    plt.show()\n",
    "\n",
    "plot_confusion_matrix(y_test, y_pred)"
   ]
  },
  {
   "cell_type": "code",
   "execution_count": 21,
   "metadata": {},
   "outputs": [
    {
     "data": {
      "text/plain": [
       "0.7932960893854749"
      ]
     },
     "execution_count": 21,
     "metadata": {},
     "output_type": "execute_result"
    }
   ],
   "source": [
    "# ACCURACY\n",
    "accuracy_score(y_test, y_pred)"
   ]
  },
  {
   "cell_type": "code",
   "execution_count": 22,
   "metadata": {},
   "outputs": [
    {
     "data": {
      "text/plain": [
       "0.78125"
      ]
     },
     "execution_count": 22,
     "metadata": {},
     "output_type": "execute_result"
    }
   ],
   "source": [
    "# PRECISION\n",
    "precision_score(y_test, y_pred)"
   ]
  },
  {
   "cell_type": "code",
   "execution_count": 23,
   "metadata": {},
   "outputs": [
    {
     "data": {
      "text/plain": [
       "0.684931506849315"
      ]
     },
     "execution_count": 23,
     "metadata": {},
     "output_type": "execute_result"
    }
   ],
   "source": [
    "# RECALL\n",
    "recall_score(y_test, y_pred)"
   ]
  },
  {
   "cell_type": "code",
   "execution_count": 24,
   "metadata": {},
   "outputs": [
    {
     "data": {
      "text/plain": [
       "0.7299270072992701"
      ]
     },
     "execution_count": 24,
     "metadata": {},
     "output_type": "execute_result"
    }
   ],
   "source": [
    "# F1\n",
    "f1_score(y_test, y_pred)"
   ]
  },
  {
   "cell_type": "code",
   "execution_count": 25,
   "metadata": {},
   "outputs": [
    {
     "data": {
      "image/png": "[encoded data removed]",
      "text/plain": [
       "<Figure size 432x288 with 1 Axes>"
      ]
     },
     "metadata": {
      "needs_background": "light"
     },
     "output_type": "display_data"
    }
   ],
   "source": [
    "# ROC CURVE\n",
    "plot_roc_curve(log_model, X_test, y_test)\n",
    "plt.title('ROC Curve')\n",
    "plt.plot([0, 1], [0, 1], 'r--')\n",
    "plt.show()"
   ]
  },
  {
   "cell_type": "code",
   "execution_count": 26,
   "metadata": {},
   "outputs": [
    {
     "data": {
      "text/plain": [
       "0.8604290514344791"
      ]
     },
     "execution_count": 26,
     "metadata": {},
     "output_type": "execute_result"
    }
   ],
   "source": [
    "# AUC\n",
    "roc_auc_score(y_test, y_prob)"
   ]
  },
  {
   "cell_type": "code",
   "execution_count": 27,
   "metadata": {},
   "outputs": [
    {
     "name": "stdout",
     "output_type": "stream",
     "text": [
      "              precision    recall  f1-score   support\n",
      "\n",
      "           0       0.80      0.87      0.83       106\n",
      "           1       0.78      0.68      0.73        73\n",
      "\n",
      "    accuracy                           0.79       179\n",
      "   macro avg       0.79      0.78      0.78       179\n",
      "weighted avg       0.79      0.79      0.79       179\n",
      "\n"
     ]
    }
   ],
   "source": [
    "# Classification report\n",
    "print(classification_report(y_test, y_pred))"
   ]
  },
  {
   "cell_type": "code",
   "execution_count": null,
   "metadata": {},
   "outputs": [],
   "source": []
  }
 ],
 "metadata": {
  "kernelspec": {
   "display_name": "Python 3",
   "language": "python",
   "name": "python3"
  },
  "language_info": {
   "codemirror_mode": {
    "name": "ipython",
    "version": 3
   },
   "file_extension": ".py",
   "mimetype": "text/x-python",
   "name": "python",
   "nbconvert_exporter": "python",
   "pygments_lexer": "ipython3",
   "version": "3.8.5"
  }
 },
 "nbformat": 4,
 "nbformat_minor": 4
}
